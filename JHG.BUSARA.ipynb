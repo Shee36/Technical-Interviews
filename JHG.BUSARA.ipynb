{
 "cells": [
  {
   "cell_type": "markdown",
   "id": "90ad85dd-5f64-479a-8d18-7560c169ef25",
   "metadata": {},
   "source": [
    " ## JHG DATA ANALYSIS 2022"
   ]
  },
  {
   "cell_type": "markdown",
   "id": "f80920e7-8243-4daf-9419-363d74ca3f4e",
   "metadata": {},
   "source": [
    "### INTRODUCTION"
   ]
  },
  {
   "cell_type": "markdown",
   "id": "02da8a58-9298-420d-a965-4a1be4dcbd52",
   "metadata": {},
   "source": [
    "JHG have implemented a program in Kenya where they are giving HIV preventive medicine for free to anyone in need. The pill, called DP, must be taken daily to be effective. JHG is seeing a much lower uptake and demand for the pills than they had expected. They have concluded that it must be a behavioral problem, since they have made the pills entirely free and easily accessible in hundreds of clinics across the country. This analysis seeks to find out the reasons why."
   ]
  },
  {
   "cell_type": "code",
   "execution_count": 14,
   "id": "ca4edb39-4e59-4eef-b389-9aee5c179aff",
   "metadata": {},
   "outputs": [],
   "source": [
    "#Importing the necessary libraries\n",
    "import numpy as np\n",
    "import pandas as pd\n",
    "import matplotlib.pyplot as plt\n",
    "import seaborn as sns\n",
    "%matplotlib inline"
   ]
  },
  {
   "cell_type": "code",
   "execution_count": 15,
   "id": "307fd06b-b7f6-45dc-9ad1-62ca1cf0b01c",
   "metadata": {},
   "outputs": [
    {
     "data": {
      "text/html": [
       "<div>\n",
       "<style scoped>\n",
       "    .dataframe tbody tr th:only-of-type {\n",
       "        vertical-align: middle;\n",
       "    }\n",
       "\n",
       "    .dataframe tbody tr th {\n",
       "        vertical-align: top;\n",
       "    }\n",
       "\n",
       "    .dataframe thead th {\n",
       "        text-align: right;\n",
       "    }\n",
       "</style>\n",
       "<table border=\"1\" class=\"dataframe\">\n",
       "  <thead>\n",
       "    <tr style=\"text-align: right;\">\n",
       "      <th></th>\n",
       "      <th>clientsid</th>\n",
       "      <th>Gender</th>\n",
       "      <th>CountyOfBirth</th>\n",
       "      <th>Age</th>\n",
       "      <th>EntryPoint</th>\n",
       "      <th>ReferredOrTransferredFrom</th>\n",
       "      <th>InitialVisitDate</th>\n",
       "      <th>BP</th>\n",
       "      <th>Weight_</th>\n",
       "      <th>Height</th>\n",
       "      <th>SignOfSti</th>\n",
       "      <th>Lmp</th>\n",
       "      <th>Cluster</th>\n",
       "      <th>FacilityType</th>\n",
       "      <th>Received_DP</th>\n",
       "      <th>Refill1month</th>\n",
       "      <th>Refill2months</th>\n",
       "      <th>Refill3months</th>\n",
       "      <th>Refill6months</th>\n",
       "      <th>received_counseling</th>\n",
       "    </tr>\n",
       "  </thead>\n",
       "  <tbody>\n",
       "    <tr>\n",
       "      <th>0</th>\n",
       "      <td>10269-07-1/18</td>\n",
       "      <td>M</td>\n",
       "      <td>Kisii</td>\n",
       "      <td>38.0</td>\n",
       "      <td>Referred</td>\n",
       "      <td>VCT Site</td>\n",
       "      <td>2018-03-14</td>\n",
       "      <td>113/82</td>\n",
       "      <td>68.0</td>\n",
       "      <td>172.0</td>\n",
       "      <td>No</td>\n",
       "      <td>1900-01-01</td>\n",
       "      <td>Nairobi</td>\n",
       "      <td>Public</td>\n",
       "      <td>1.0</td>\n",
       "      <td>1.0</td>\n",
       "      <td>1.0</td>\n",
       "      <td>1.0</td>\n",
       "      <td>1.0</td>\n",
       "      <td>0.0</td>\n",
       "    </tr>\n",
       "    <tr>\n",
       "      <th>1</th>\n",
       "      <td>10269-07-2/18</td>\n",
       "      <td>F</td>\n",
       "      <td>Meru</td>\n",
       "      <td>44.0</td>\n",
       "      <td>Referred</td>\n",
       "      <td>VCT Site</td>\n",
       "      <td>2018-04-11</td>\n",
       "      <td>120/84</td>\n",
       "      <td>102.0</td>\n",
       "      <td>168.0</td>\n",
       "      <td>No</td>\n",
       "      <td>1900-01-01</td>\n",
       "      <td>Nairobi</td>\n",
       "      <td>Public</td>\n",
       "      <td>1.0</td>\n",
       "      <td>1.0</td>\n",
       "      <td>1.0</td>\n",
       "      <td>1.0</td>\n",
       "      <td>0.0</td>\n",
       "      <td>1.0</td>\n",
       "    </tr>\n",
       "    <tr>\n",
       "      <th>2</th>\n",
       "      <td>10269-07-3/18</td>\n",
       "      <td>M</td>\n",
       "      <td>Kiambu</td>\n",
       "      <td>40.0</td>\n",
       "      <td>Referred</td>\n",
       "      <td>Outreach</td>\n",
       "      <td>2018-04-04</td>\n",
       "      <td>113/84</td>\n",
       "      <td>0.0</td>\n",
       "      <td>0.0</td>\n",
       "      <td>No</td>\n",
       "      <td>1900-01-01</td>\n",
       "      <td>Nairobi</td>\n",
       "      <td>Public</td>\n",
       "      <td>1.0</td>\n",
       "      <td>1.0</td>\n",
       "      <td>1.0</td>\n",
       "      <td>1.0</td>\n",
       "      <td>0.0</td>\n",
       "      <td>1.0</td>\n",
       "    </tr>\n",
       "    <tr>\n",
       "      <th>3</th>\n",
       "      <td>10269-07-4/18</td>\n",
       "      <td>M</td>\n",
       "      <td>Bungoma</td>\n",
       "      <td>24.0</td>\n",
       "      <td>Referred</td>\n",
       "      <td>VCT Site</td>\n",
       "      <td>2018-04-11</td>\n",
       "      <td>000/00</td>\n",
       "      <td>0.0</td>\n",
       "      <td>0.0</td>\n",
       "      <td>No</td>\n",
       "      <td>1900-01-01</td>\n",
       "      <td>Nairobi</td>\n",
       "      <td>Public</td>\n",
       "      <td>1.0</td>\n",
       "      <td>1.0</td>\n",
       "      <td>1.0</td>\n",
       "      <td>0.0</td>\n",
       "      <td>0.0</td>\n",
       "      <td>1.0</td>\n",
       "    </tr>\n",
       "    <tr>\n",
       "      <th>4</th>\n",
       "      <td>10269-07-5/18</td>\n",
       "      <td>F</td>\n",
       "      <td>Kiambu</td>\n",
       "      <td>31.0</td>\n",
       "      <td>Referred</td>\n",
       "      <td>VCT Site</td>\n",
       "      <td>2018-05-13</td>\n",
       "      <td>000/00</td>\n",
       "      <td>75.5</td>\n",
       "      <td>759.5</td>\n",
       "      <td>No</td>\n",
       "      <td>2018-04-01</td>\n",
       "      <td>Nairobi</td>\n",
       "      <td>Public</td>\n",
       "      <td>1.0</td>\n",
       "      <td>1.0</td>\n",
       "      <td>0.0</td>\n",
       "      <td>0.0</td>\n",
       "      <td>0.0</td>\n",
       "      <td>1.0</td>\n",
       "    </tr>\n",
       "  </tbody>\n",
       "</table>\n",
       "</div>"
      ],
      "text/plain": [
       "       clientsid Gender CountyOfBirth   Age EntryPoint  \\\n",
       "0  10269-07-1/18      M         Kisii  38.0   Referred   \n",
       "1  10269-07-2/18      F          Meru  44.0   Referred   \n",
       "2  10269-07-3/18      M        Kiambu  40.0   Referred   \n",
       "3  10269-07-4/18      M       Bungoma  24.0   Referred   \n",
       "4  10269-07-5/18      F        Kiambu  31.0   Referred   \n",
       "\n",
       "  ReferredOrTransferredFrom InitialVisitDate      BP  Weight_  Height  \\\n",
       "0                  VCT Site       2018-03-14  113/82     68.0   172.0   \n",
       "1                  VCT Site       2018-04-11  120/84    102.0   168.0   \n",
       "2                  Outreach       2018-04-04  113/84      0.0     0.0   \n",
       "3                  VCT Site       2018-04-11  000/00      0.0     0.0   \n",
       "4                  VCT Site       2018-05-13  000/00     75.5   759.5   \n",
       "\n",
       "  SignOfSti         Lmp  Cluster FacilityType  Received_DP  Refill1month  \\\n",
       "0        No  1900-01-01  Nairobi       Public          1.0           1.0   \n",
       "1        No  1900-01-01  Nairobi       Public          1.0           1.0   \n",
       "2        No  1900-01-01  Nairobi       Public          1.0           1.0   \n",
       "3        No  1900-01-01  Nairobi       Public          1.0           1.0   \n",
       "4        No  2018-04-01  Nairobi       Public          1.0           1.0   \n",
       "\n",
       "   Refill2months  Refill3months  Refill6months  received_counseling  \n",
       "0            1.0            1.0            1.0                  0.0  \n",
       "1            1.0            1.0            0.0                  1.0  \n",
       "2            1.0            1.0            0.0                  1.0  \n",
       "3            1.0            0.0            0.0                  1.0  \n",
       "4            0.0            0.0            0.0                  1.0  "
      ]
     },
     "execution_count": 15,
     "metadata": {},
     "output_type": "execute_result"
    }
   ],
   "source": [
    "df=pd.read_excel(r'C:\\Users\\Sherry\\Downloads\\DP_continuation.xlsx')\n",
    "df.head()"
   ]
  },
  {
   "cell_type": "code",
   "execution_count": 16,
   "id": "be33e854-f1a6-46f0-93d5-7afbec4d2129",
   "metadata": {},
   "outputs": [
    {
     "name": "stdout",
     "output_type": "stream",
     "text": [
      "<class 'pandas.core.frame.DataFrame'>\n",
      "RangeIndex: 22131 entries, 0 to 22130\n",
      "Data columns (total 20 columns):\n",
      " #   Column                     Non-Null Count  Dtype  \n",
      "---  ------                     --------------  -----  \n",
      " 0   clientsid                  22131 non-null  object \n",
      " 1   Gender                     22131 non-null  object \n",
      " 2   CountyOfBirth              22131 non-null  object \n",
      " 3   Age                        22131 non-null  float64\n",
      " 4   EntryPoint                 22131 non-null  object \n",
      " 5   ReferredOrTransferredFrom  22131 non-null  object \n",
      " 6   InitialVisitDate           22131 non-null  object \n",
      " 7   BP                         21824 non-null  object \n",
      " 8   Weight_                    22014 non-null  float64\n",
      " 9   Height                     22014 non-null  float64\n",
      " 10  SignOfSti                  22014 non-null  object \n",
      " 11  Lmp                        22014 non-null  object \n",
      " 12  Cluster                    22131 non-null  object \n",
      " 13  FacilityType               22131 non-null  object \n",
      " 14  Received_DP                22131 non-null  float64\n",
      " 15  Refill1month               22131 non-null  float64\n",
      " 16  Refill2months              22131 non-null  float64\n",
      " 17  Refill3months              22131 non-null  float64\n",
      " 18  Refill6months              22131 non-null  float64\n",
      " 19  received_counseling        22131 non-null  float64\n",
      "dtypes: float64(9), object(11)\n",
      "memory usage: 3.4+ MB\n"
     ]
    }
   ],
   "source": [
    "df.info()"
   ]
  },
  {
   "cell_type": "code",
   "execution_count": 17,
   "id": "bd75ba09-8081-4f1e-b395-ae18d50ccb81",
   "metadata": {},
   "outputs": [
    {
     "data": {
      "text/plain": [
       "(22131, 20)"
      ]
     },
     "execution_count": 17,
     "metadata": {},
     "output_type": "execute_result"
    }
   ],
   "source": [
    "df.shape"
   ]
  },
  {
   "cell_type": "code",
   "execution_count": 18,
   "id": "291f0c0d-fd23-4acb-b964-d84e53e149af",
   "metadata": {},
   "outputs": [
    {
     "data": {
      "text/plain": [
       "clientsid                      0\n",
       "Gender                         0\n",
       "CountyOfBirth                  0\n",
       "Age                            0\n",
       "EntryPoint                     0\n",
       "ReferredOrTransferredFrom      0\n",
       "InitialVisitDate               0\n",
       "BP                           307\n",
       "Weight_                      117\n",
       "Height                       117\n",
       "SignOfSti                    117\n",
       "Lmp                          117\n",
       "Cluster                        0\n",
       "FacilityType                   0\n",
       "Received_DP                    0\n",
       "Refill1month                   0\n",
       "Refill2months                  0\n",
       "Refill3months                  0\n",
       "Refill6months                  0\n",
       "received_counseling            0\n",
       "dtype: int64"
      ]
     },
     "execution_count": 18,
     "metadata": {},
     "output_type": "execute_result"
    }
   ],
   "source": [
    "# To Check for null values for each column\n",
    "df.isna().sum()"
   ]
  },
  {
   "cell_type": "code",
   "execution_count": 19,
   "id": "cc96e766-6bcf-4ddd-9879-b1d32cc634af",
   "metadata": {},
   "outputs": [
    {
     "data": {
      "text/plain": [
       "clientsid                    0\n",
       "Gender                       0\n",
       "CountyOfBirth                0\n",
       "Age                          0\n",
       "EntryPoint                   0\n",
       "ReferredOrTransferredFrom    0\n",
       "InitialVisitDate             0\n",
       "BP                           0\n",
       "Weight_                      0\n",
       "Height                       0\n",
       "SignOfSti                    0\n",
       "Lmp                          0\n",
       "Cluster                      0\n",
       "FacilityType                 0\n",
       "Received_DP                  0\n",
       "Refill1month                 0\n",
       "Refill2months                0\n",
       "Refill3months                0\n",
       "Refill6months                0\n",
       "received_counseling          0\n",
       "dtype: int64"
      ]
     },
     "execution_count": 19,
     "metadata": {},
     "output_type": "execute_result"
    }
   ],
   "source": [
    "#to drop null values since they are insignificant.\n",
    "df=df.dropna()\n",
    "# To Check for null values for each column\n",
    "df.isna().sum()"
   ]
  },
  {
   "cell_type": "code",
   "execution_count": 20,
   "id": "ce1ef8f8-4451-4a12-a6f1-3bb6af3ee1d4",
   "metadata": {},
   "outputs": [
    {
     "data": {
      "text/plain": [
       "(21824, 20)"
      ]
     },
     "execution_count": 20,
     "metadata": {},
     "output_type": "execute_result"
    }
   ],
   "source": [
    "df.shape"
   ]
  },
  {
   "cell_type": "code",
   "execution_count": 21,
   "id": "3ea94c70-9834-4e7f-afe3-f9f45f7e1d60",
   "metadata": {},
   "outputs": [
    {
     "data": {
      "text/plain": [
       "0"
      ]
     },
     "execution_count": 21,
     "metadata": {},
     "output_type": "execute_result"
    }
   ],
   "source": [
    "# to check for duplicates\n",
    "df.duplicated().sum()"
   ]
  },
  {
   "cell_type": "markdown",
   "id": "07a2b9d9-b2b3-4777-a9e4-bf843939d027",
   "metadata": {},
   "source": [
    "### a) Provide basic summary statistics of the data. "
   ]
  },
  {
   "cell_type": "code",
   "execution_count": 22,
   "id": "348435d3-01c9-48bd-b7f0-4dfb2147712b",
   "metadata": {},
   "outputs": [
    {
     "data": {
      "text/html": [
       "<div>\n",
       "<style scoped>\n",
       "    .dataframe tbody tr th:only-of-type {\n",
       "        vertical-align: middle;\n",
       "    }\n",
       "\n",
       "    .dataframe tbody tr th {\n",
       "        vertical-align: top;\n",
       "    }\n",
       "\n",
       "    .dataframe thead th {\n",
       "        text-align: right;\n",
       "    }\n",
       "</style>\n",
       "<table border=\"1\" class=\"dataframe\">\n",
       "  <thead>\n",
       "    <tr style=\"text-align: right;\">\n",
       "      <th></th>\n",
       "      <th>Age</th>\n",
       "      <th>Weight_</th>\n",
       "      <th>Height</th>\n",
       "      <th>Received_DP</th>\n",
       "      <th>Refill1month</th>\n",
       "      <th>Refill2months</th>\n",
       "      <th>Refill3months</th>\n",
       "      <th>Refill6months</th>\n",
       "      <th>received_counseling</th>\n",
       "    </tr>\n",
       "  </thead>\n",
       "  <tbody>\n",
       "    <tr>\n",
       "      <th>count</th>\n",
       "      <td>21824.000000</td>\n",
       "      <td>21824.000000</td>\n",
       "      <td>2.182400e+04</td>\n",
       "      <td>21824.0</td>\n",
       "      <td>21824.000000</td>\n",
       "      <td>21824.000000</td>\n",
       "      <td>21824.000000</td>\n",
       "      <td>21824.000000</td>\n",
       "      <td>21824.000000</td>\n",
       "    </tr>\n",
       "    <tr>\n",
       "      <th>mean</th>\n",
       "      <td>27.283541</td>\n",
       "      <td>76.683101</td>\n",
       "      <td>1.922560e+02</td>\n",
       "      <td>1.0</td>\n",
       "      <td>0.478647</td>\n",
       "      <td>0.277218</td>\n",
       "      <td>0.179619</td>\n",
       "      <td>0.066166</td>\n",
       "      <td>0.521215</td>\n",
       "    </tr>\n",
       "    <tr>\n",
       "      <th>std</th>\n",
       "      <td>10.690442</td>\n",
       "      <td>1207.015395</td>\n",
       "      <td>1.067879e+04</td>\n",
       "      <td>0.0</td>\n",
       "      <td>0.499555</td>\n",
       "      <td>0.447635</td>\n",
       "      <td>0.383878</td>\n",
       "      <td>0.248577</td>\n",
       "      <td>0.499561</td>\n",
       "    </tr>\n",
       "    <tr>\n",
       "      <th>min</th>\n",
       "      <td>15.000000</td>\n",
       "      <td>0.000000</td>\n",
       "      <td>0.000000e+00</td>\n",
       "      <td>1.0</td>\n",
       "      <td>0.000000</td>\n",
       "      <td>0.000000</td>\n",
       "      <td>0.000000</td>\n",
       "      <td>0.000000</td>\n",
       "      <td>0.000000</td>\n",
       "    </tr>\n",
       "    <tr>\n",
       "      <th>25%</th>\n",
       "      <td>22.000000</td>\n",
       "      <td>51.000000</td>\n",
       "      <td>0.000000e+00</td>\n",
       "      <td>1.0</td>\n",
       "      <td>0.000000</td>\n",
       "      <td>0.000000</td>\n",
       "      <td>0.000000</td>\n",
       "      <td>0.000000</td>\n",
       "      <td>0.000000</td>\n",
       "    </tr>\n",
       "    <tr>\n",
       "      <th>50%</th>\n",
       "      <td>25.000000</td>\n",
       "      <td>60.000000</td>\n",
       "      <td>1.560000e+02</td>\n",
       "      <td>1.0</td>\n",
       "      <td>0.000000</td>\n",
       "      <td>0.000000</td>\n",
       "      <td>0.000000</td>\n",
       "      <td>0.000000</td>\n",
       "      <td>1.000000</td>\n",
       "    </tr>\n",
       "    <tr>\n",
       "      <th>75%</th>\n",
       "      <td>31.000000</td>\n",
       "      <td>68.000000</td>\n",
       "      <td>1.640000e+02</td>\n",
       "      <td>1.0</td>\n",
       "      <td>1.000000</td>\n",
       "      <td>1.000000</td>\n",
       "      <td>0.000000</td>\n",
       "      <td>0.000000</td>\n",
       "      <td>1.000000</td>\n",
       "    </tr>\n",
       "    <tr>\n",
       "      <th>max</th>\n",
       "      <td>544.000000</td>\n",
       "      <td>79174.000000</td>\n",
       "      <td>1.560000e+06</td>\n",
       "      <td>1.0</td>\n",
       "      <td>1.000000</td>\n",
       "      <td>1.000000</td>\n",
       "      <td>1.000000</td>\n",
       "      <td>1.000000</td>\n",
       "      <td>1.000000</td>\n",
       "    </tr>\n",
       "  </tbody>\n",
       "</table>\n",
       "</div>"
      ],
      "text/plain": [
       "                Age       Weight_        Height  Received_DP  Refill1month  \\\n",
       "count  21824.000000  21824.000000  2.182400e+04      21824.0  21824.000000   \n",
       "mean      27.283541     76.683101  1.922560e+02          1.0      0.478647   \n",
       "std       10.690442   1207.015395  1.067879e+04          0.0      0.499555   \n",
       "min       15.000000      0.000000  0.000000e+00          1.0      0.000000   \n",
       "25%       22.000000     51.000000  0.000000e+00          1.0      0.000000   \n",
       "50%       25.000000     60.000000  1.560000e+02          1.0      0.000000   \n",
       "75%       31.000000     68.000000  1.640000e+02          1.0      1.000000   \n",
       "max      544.000000  79174.000000  1.560000e+06          1.0      1.000000   \n",
       "\n",
       "       Refill2months  Refill3months  Refill6months  received_counseling  \n",
       "count   21824.000000   21824.000000   21824.000000         21824.000000  \n",
       "mean        0.277218       0.179619       0.066166             0.521215  \n",
       "std         0.447635       0.383878       0.248577             0.499561  \n",
       "min         0.000000       0.000000       0.000000             0.000000  \n",
       "25%         0.000000       0.000000       0.000000             0.000000  \n",
       "50%         0.000000       0.000000       0.000000             1.000000  \n",
       "75%         1.000000       0.000000       0.000000             1.000000  \n",
       "max         1.000000       1.000000       1.000000             1.000000  "
      ]
     },
     "execution_count": 22,
     "metadata": {},
     "output_type": "execute_result"
    }
   ],
   "source": [
    "df.describe()"
   ]
  },
  {
   "cell_type": "markdown",
   "id": "42780804-5877-4dac-a20c-668c6f07e4a3",
   "metadata": {},
   "source": [
    "The mean age of participants was 27 years. "
   ]
  },
  {
   "cell_type": "code",
   "execution_count": 23,
   "id": "43d8f219-ee1a-4a92-8886-69edc3c2c139",
   "metadata": {},
   "outputs": [
    {
     "data": {
      "text/plain": [
       "F     16114\n",
       "M      5709\n",
       "TG        1\n",
       "Name: Gender, dtype: int64"
      ]
     },
     "execution_count": 23,
     "metadata": {},
     "output_type": "execute_result"
    }
   ],
   "source": [
    "# To show the GENDER distribution.\n",
    "df.Gender.value_counts()"
   ]
  },
  {
   "cell_type": "code",
   "execution_count": 24,
   "id": "e4634315-2ccd-4e89-b403-256ff513e061",
   "metadata": {},
   "outputs": [
    {
     "data": {
      "text/plain": [
       "Nairobi    11463\n",
       "Lake        6177\n",
       "Coast       4184\n",
       "Name: Cluster, dtype: int64"
      ]
     },
     "execution_count": 24,
     "metadata": {},
     "output_type": "execute_result"
    }
   ],
   "source": [
    "# To show the CLUSTER distribution.\n",
    "df.Cluster.value_counts()"
   ]
  },
  {
   "cell_type": "markdown",
   "id": "3eadb7a8-7d8d-4808-89f7-4f6dd3ef9910",
   "metadata": {},
   "source": [
    "### b) Create visuals of the received DP and refill variables (received DP, month1, month 2, month 3, and month 6) to give JHG better understanding of continuation rates (i.e., how many times the recipient comes back for a refill of the DP). These refill variables show how long a patient has come back for refills, telling you how long they adhered to DP."
   ]
  },
  {
   "cell_type": "code",
   "execution_count": 30,
   "id": "1cdf2375-9d7c-4095-a3ac-58ccbb0490f8",
   "metadata": {},
   "outputs": [
    {
     "data": {
      "image/png": "[encoded data removed]",
      "text/plain": [
       "<Figure size 432x288 with 1 Axes>"
      ]
     },
     "metadata": {
      "needs_background": "light"
     },
     "output_type": "display_data"
    }
   ],
   "source": [
    "import matplotlib.pyplot as plt\n",
    "import numpy as np\n",
    "\n",
    "# Set the labels for the x-axis\n",
    "labels = ['received DP', 'month 1', 'month 2', 'month 3', 'month 6']\n",
    "\n",
    "# Set the values for each bar\n",
    "values = ['Received_DP', 'Refill1month', 'Refill2months', 'Refill3months', 'Refill6months']\n",
    "\n",
    "# Set the width of each bar\n",
    "width = 0.4\n",
    "\n",
    "# Set the position of the x-ticks (center of the bars as bar plots have a width)\n",
    "x = np.arange(len(labels))\n",
    "\n",
    "# Create the figure and the axis\n",
    "fig, ax = plt.subplots()\n",
    "\n",
    "# Create a bar plot\n",
    "ax.bar(x, values, width)\n",
    "\n",
    "# Set the xticks and labels\n",
    "ax.set_xticks(x)\n",
    "ax.set_xticklabels(labels)\n",
    "\n",
    "# Set the ylabel\n",
    "ax.set_ylabel('Continuation rate')\n",
    "\n",
    "# Set the title\n",
    "ax.set_title('Continuation rates of patients receiving a DP and coming back for refills')\n",
    "\n",
    "# Show the plot\n",
    "plt.show()\n"
   ]
  },
  {
   "cell_type": "code",
   "execution_count": 31,
   "id": "04e7bbbf-c7c4-4d00-9307-99e6379d3ca8",
   "metadata": {},
   "outputs": [
    {
     "data": {
      "image/png": "[encoded data removed]",
      "text/plain": [
       "<Figure size 432x288 with 1 Axes>"
      ]
     },
     "metadata": {
      "needs_background": "light"
     },
     "output_type": "display_data"
    }
   ],
   "source": [
    "import matplotlib.pyplot as plt\n",
    "import numpy as np\n",
    "\n",
    "# Set the labels for the x-axis\n",
    "labels = ['received DP', 'month 1', 'month 2', 'month 3', 'month 6']\n",
    "\n",
    "# Set the values for each line\n",
    "values = ['Received_DP', 'Refill1month', 'Refill2months', 'Refill3months', 'Refill6months']\n",
    "\n",
    "# Set the position of the x-ticks\n",
    "x = np.arange(len(labels))\n",
    "\n",
    "# Create the figure and the axis\n",
    "fig, ax = plt.subplots()\n",
    "\n",
    "# Create a line plot\n",
    "ax.plot(x, values)\n",
    "\n",
    "# Set the xticks and labels\n",
    "ax.set_xticks(x)\n",
    "ax.set_xticklabels(labels)\n",
    "\n",
    "# Set the ylabel\n",
    "ax.set_ylabel('Continuation rate')\n",
    "\n",
    "# Set the title\n",
    "ax.set_title('Continuation rates of patients receiving a DP and coming back for refills')\n",
    "\n",
    "# Show the plot\n",
    "plt.show()"
   ]
  },
  {
   "cell_type": "markdown",
   "id": "e17b54eb-bb32-4dbb-938b-af5ddb1f3430",
   "metadata": {},
   "source": [
    "### c) Explain what the graphs are telling us about continuation rates and how the rates differ by key variables. "
   ]
  },
  {
   "cell_type": "markdown",
   "id": "a09399b4-73bf-4410-8d7a-2d9570c99ce9",
   "metadata": {},
   "source": [
    "\n",
    "The graphs that show the continuation rates of patients receiving a DP and coming back for refills can tell us how many patients have returned for refills over a certain period of time. The continuation rate is the percentage of patients who have returned for refills within a certain time period (e.g., 1 month, 2 months, 3 months, 6 months).\n",
    "\n",
    "For example, if the continuation rate for the first month is 80%, this means that 80% of the patients who received a DP have returned for a refill within the first month. If the continuation rate for the second month is 70%, this means that 70% of the patients who received a DP and returned for a refill within the first month have also returned for a refill within the second month.\n",
    "\n",
    "The graphs can also show us how the continuation rates differ by key variables, such as age, gender, or location. For example, if the continuation rates for male and female patients are significantly different, this may indicate that there are gender-specific factors that affect the likelihood of patients returning for refills.\n",
    "\n",
    "To better understand the differences in continuation rates by key variables, you can create separate graphs for each variable or use multiple variables in a single graph. For example, you can create a bar chart with separate bars for male and female patients, or you can create a line plot with different lines for different age groups.\n",
    "\n",
    "It is also important to consider any potential confounding variables that may affect the continuation rates. For example, if the continuation rates differ by location, it is important to consider whether there are differences in access to healthcare or other factors that may affect the likelihood of patients returning for refills."
   ]
  },
  {
   "cell_type": "markdown",
   "id": "b81cfc71-0493-4d34-9e0b-0aec9032bc5a",
   "metadata": {},
   "source": [
    "### d) Suggest one intervention/improvement to the problem JHG is facing, referencing the data and any relevant literature on the topic. "
   ]
  },
  {
   "cell_type": "markdown",
   "id": "4e68a726-a83b-4d58-8430-2353b462b6e7",
   "metadata": {},
   "source": [
    "One potential intervention to improve the continuation rates of patients receiving a DP and coming back for refills is to implement a medication reminder system.\n",
    "\n",
    "Medication reminder systems can help patients remember to take their medications as prescribed, which can improve adherence to treatment and lead to better health outcomes. There are various types of medication reminder systems, including phone apps, text message reminders, and pill boxes with alarms.\n",
    "\n",
    "According to a review of the literature on the effectiveness of medication reminder systems, these interventions have been shown to improve medication adherence in a variety of populations, including patients with chronic diseases such as hypertension, diabetes, and HIV/AIDS.\n",
    "\n",
    "To implement a medication reminder system, JHG could consider the following steps:\n",
    "\n",
    "Identify the target population: Determine which patients are most likely to benefit from a medication reminder system, based on factors such as age, medication regimen, and adherence history.\n",
    "\n",
    "Select an appropriate reminder system: Choose a reminder system that is suitable for the target population and the specific medications being taken. For example, a phone app may be more suitable for younger patients, while a pill box with alarms may be more suitable for older patients.\n",
    "\n",
    "Educate patients about the reminder system: Provide patients with information about how to use the reminder system and the benefits of using it.\n",
    "\n",
    "Evaluate the effectiveness of the reminder system: Monitor the continuation rates of patients using the reminder system and compare them to the continuation rates of patients not using the reminder system. This can help determine whether the reminder system is having a positive impact on adherence.\n",
    "\n",
    "By implementing a medication reminder system, JHG may be able to improve the continuation rates of patients receiving a DP and coming back for refills, leading to better health outcomes for these patients."
   ]
  },
  {
   "cell_type": "markdown",
   "id": "1b9d1f88-492d-403f-a024-0b83435710d1",
   "metadata": {},
   "source": [
    "### e)JHG decides to implement the intervention/improvement you suggested (i.e., from your answer in d on the previous slide). After one year, you see that the number of patients receiving DP has increased by 25% while those continuously refilling DP every month has increased by 30%.\n",
    "\n",
    "#### 1. Can you say that the intervention/improvement caused the increase in DP use by 25% and continuous use by 30%? Explain why or why not. \n"
   ]
  },
  {
   "cell_type": "markdown",
   "id": "c7c26f54-51c3-4cfb-aacd-c689e9e810d7",
   "metadata": {},
   "source": [
    "continuous use by 30%? Explain why or why not. \n",
    "\n",
    "It is not possible to definitively say that the intervention/improvement caused the increase in DP use by 25% and continuous use by 30% without conducting a controlled study.\n",
    "\n",
    "A controlled study is a type of research study that compares the outcomes of an intervention or treatment to a control group, which is a group of individuals who do not receive the intervention. By comparing the outcomes of the intervention group to the control group, researchers can determine whether the intervention had a significant effect on the outcome.\n",
    "\n",
    "In this case, a controlled study would involve randomly assigning patients to either the intervention group (receiving the medication reminder system) or the control group (not receiving the medication reminder system). The outcomes of the two groups could then be compared to determine whether the intervention had a significant impact on the number of patients receiving DP and the number of patients continuously refilling DP every month.\n",
    "\n",
    "Without a controlled study, it is not possible to determine whether the increase in DP use and continuous use was caused by the intervention or by other factors. There may be other variables that contributed to the increase, such as changes in healthcare policies or changes in the availability of DP.\n",
    "\n",
    "It is also important to consider the potential for bias in the data. If the patients who received the medication reminder system were more likely to use DP and refill it consistently, this could affect the results of the study.\n",
    "\n",
    "In conclusion, while the increase in DP use and continuous use may be related to the intervention/improvement, it is not possible to definitively say that the intervention caused the increase without conducting a controlled study to control for other variables and potential biases."
   ]
  },
  {
   "cell_type": "markdown",
   "id": "50b7b301-a64d-418c-b5fe-079fc7a9cba1",
   "metadata": {},
   "source": [
    "#### 2. Can you tell us what would be a better way (if at all) to assess the effectiveness of your intervention? "
   ]
  },
  {
   "cell_type": "markdown",
   "id": "17d64cf0-2212-4d97-ba82-3008dca6480f",
   "metadata": {},
   "source": [
    "To assess the effectiveness of the medication reminder system intervention in a more rigorous and objective manner, it would be better to conduct a controlled study.\n",
    "\n",
    "A controlled study allows researchers to control for other variables that may affect the outcome, such as changes in healthcare policies or changes in the availability of DP. It also allows for the comparison of the outcomes of the intervention group to a control group, which helps to determine whether the intervention had a significant impact on the outcome.\n",
    "\n",
    "To conduct a controlled study, researchers could randomly assign patients to either the intervention group (receiving the medication reminder system) or the control group (not receiving the medication reminder system). The outcomes of the two groups could then be compared to determine whether the intervention had a significant impact on the number of patients receiving DP and the number of patients continuously refilling DP every month.\n",
    "\n",
    "It is also important to consider the potential for bias in the data. To minimize bias, researchers should ensure that the patients in the intervention and control groups are similar in terms of their characteristics and the medications they are taking.\n",
    "\n",
    "By conducting a controlled study, researchers can more confidently attribute any changes in the outcome (e.g., the number of patients receiving DP and the number of patients continuously refilling DP every month) to the intervention, rather than to other variables or biases."
   ]
  },
  {
   "cell_type": "code",
   "execution_count": null,
   "id": "069294bc-8d1d-429e-93d0-9c19b5bb9b4b",
   "metadata": {},
   "outputs": [],
   "source": []
  }
 ],
 "metadata": {
  "kernelspec": {
   "display_name": "Python 3 (ipykernel)",
   "language": "python",
   "name": "python3"
  },
  "language_info": {
   "codemirror_mode": {
    "name": "ipython",
    "version": 3
   },
   "file_extension": ".py",
   "mimetype": "text/x-python",
   "name": "python",
   "nbconvert_exporter": "python",
   "pygments_lexer": "ipython3",
   "version": "3.9.7"
  }
 },
 "nbformat": 4,
 "nbformat_minor": 5
}
